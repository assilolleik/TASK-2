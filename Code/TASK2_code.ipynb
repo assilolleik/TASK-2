{
 "cells": [
  {
   "cell_type": "markdown",
   "id": "92d0e8c1",
   "metadata": {},
   "source": [
    "The task involved scraping data from numerous web sources to create files comprising paragraphs about the US Presidential Elections to build a 200 files dataset. The Python package Beautiful Soup was used because of its strong parsing capabilities, which made it possible to extract useful information from HTML texts quickly. The work was made easier by using Beautiful Soup, which allowed for the deliberate retrieval of paragraphs while maintaining data integrity and following predetermined word count requirements."
   ]
  },
  {
   "cell_type": "code",
   "execution_count": null,
   "id": "3a41044f",
   "metadata": {},
   "outputs": [],
   "source": [
    "#import necessary libraries and packages\n",
    "import requests\n",
    "from bs4 import BeautifulSoup\n",
    "import os\n",
    "import random\n",
    "import re\n",
    "import time"
   ]
  },
  {
   "cell_type": "code",
   "execution_count": null,
   "id": "664636db",
   "metadata": {},
   "outputs": [],
   "source": [
    "# this function is used to web scrape data from specific passed urls, \n",
    "# making sure there is no repetition and that the paragraphs have between 80 and 150 words\n",
    "def webScrape_Data(url, visited_par):\n",
    "    try:\n",
    "        response = requests.get(url)\n",
    "        soup = BeautifulSoup(response.text, 'html.parser')\n",
    "        paragraphs = soup.find_all('p')\n",
    "        \n",
    "        # Extract paragraphs with word count between 80 and 150 words and not in visited paragraphs\n",
    "        unvisited_par = [p.get_text() for p in paragraphs if 80 <= len(p.get_text().split()) <= 150 and p.get_text() not in visited_par]\n",
    "        \n",
    "        if unvisited_par:\n",
    "            return random.choice(unvisited_par)\n",
    "        else:\n",
    "            return None\n",
    "    except Exception as e:\n",
    "        # Handle exceptions gracefully\n",
    "        print(\"Error occurred during web scraping:\", e)\n",
    "        return None\n"
   ]
  },
  {
   "cell_type": "code",
   "execution_count": null,
   "id": "26a84b33",
   "metadata": {},
   "outputs": [],
   "source": [
    "# this function is used to write the data on a file\n",
    "def write_data(data, file_path):\n",
    "    with open(file_path, 'w', encoding='utf-8') as file:\n",
    "        file.write(data)"
   ]
  },
  {
   "cell_type": "code",
   "execution_count": null,
   "id": "d8bf487a",
   "metadata": {},
   "outputs": [],
   "source": [
    "#create a folder named US_Presidential_Elections to store the 200 files\n",
    "if not os.path.exists('US_Presidential_Elections'):\n",
    "    os.makedirs('US_Presidential_Elections')"
   ]
  },
  {
   "cell_type": "code",
   "execution_count": null,
   "id": "7bac6030",
   "metadata": {},
   "outputs": [],
   "source": [
    "#store some urls in a list to scrape from\n",
    "urls = [\n",
    "    \"https://edition.cnn.com/election\",\n",
    "    \"https://en.wikipedia.org/wiki/2024_United_States_presidential_election\",\n",
    "    \"https://www.nytimes.com/interactive/2023/us/politics/presidential-candidates-2024.html\",\n",
    "    \"https://en.wikipedia.org/wiki/United_States_presidential_election\",\n",
    "    \"https://www.usa.gov/election\",\n",
    "    \"https://www.reuters.com/world/us/who-are-candidates-running-2024-us-presidential-election-2023-09-19/\",\n",
    "    \"https://th.usembassy.gov/summary-of-the-u-s-presidential-election-process/\",\n",
    "    \"https://www.presidency.ucsb.edu/statistics/elections\",\n",
    "    \"https://en.wikipedia.org/wiki/2020_United_States_presidential_election\",\n",
    "    \"https://www.britannica.com/topic/United-States-Presidential-Election-Results-1788863\",\n",
    "    \"https://projects.fivethirtyeight.com/polls/president-general/2024/national/\",\n",
    "    \"https://www.france24.com/en/tag/us-presidential-election/\",\n",
    "    \"https://www.history.com/news/most-contentious-u-s-presidential-elections\",\n",
    "    \"https://www.loc.gov/classroom-materials/united-states-history-primary-source-timeline/post-war-united-states-1945-1968/presidential-election-1960/\",\n",
    "    \"https://dk.usembassy.gov/usa-i-skolen/presidential-elections-and-the-american-political-system/\",\n",
    "    \"https://www.archives.gov/news/topics/presidential-elections\",\n",
    "    \"https://www.googleadservices.com/pagead/aclk?sa=L&ai=DChcSEwizxq_z84iFAxU5nGgJHfTNBLoYABAAGgJ3Zg&ase=2&gclid=Cj0KCQjw2PSvBhDjARIsAKc2cgOt9iPkboVYiQwhlvu3Ar3mSCGktahpljYlaWfnnR56_8UtU1TnXyoaAp6VEALw_wcB&ohost=www.google.com&cid=CAESVeD26of5leZt2PBnOvY2-rdtcc9amxpUAkWGBg6z8ixQnr-gSDqBlY4DFTVf-fuBGwSdmG7v0xQonWsaxDt0xaLsE2zKbawhccGh4TuYzMAnfAVRpkE&sig=AOD64_20Xk0_6vsKor5OOiIuONMwaU5fiA&q&nis=4&adurl&ved=2ahUKEwiE_6bz84iFAxWzT6QEHdJuAuYQ0Qx6BAgNEAE\"\n",
    "    ,\"https://www.usa.gov/presidential-general-election\",\n",
    "    \"https://www.270towin.com/historical-presidential-elections/\",\n",
    "    \"https://www.livemint.com/news/world/us-presidential-election-process-explained-electoral-college-caucuses-primaries-donald-trump-vivek-ramaswamy-joe-biden-11705420470068.html\"\n",
    "    ,\"https://ballotpedia.org/Presidential_election,_2024\",\n",
    "    \"https://www.270towin.com/states/\",\n",
    "    \"https://www.statista.com/topics/6273/us-presidential-elections-1789-2016/\",\n",
    "    \"https://www.census.gov/newsroom/press-releases/2021/2020-presidential-election-voting-and-registration-tables-now-available.html\",\n",
    "    \"https://www.mountvernon.org/library/digitalhistory/digital-encyclopedia/article/presidential-election-of-1789/\",\n",
    "    \"https://www.statista.com/statistics/1034688/share-electoral-popular-votes-each-president-since-1789/\",\n",
    "    \"https://www.history.com/topics/us-presidents/presidential-election-facts\",\n",
    "    \"https://guides.loc.gov/american-history\",\n",
    "    \"https://www.voanews.com/a/a-13-2008-11-04-voa71/401374.html\",\n",
    "    \"https://www.everycrsreport.com/reports/RL30527.html\",\n",
    "     \"https://www.loc.gov/collections/century-of-lawmaking/articles-and-essays/century-presentations/presidential-elections/\",\n",
    "     \"https://www.archives.gov/electoral-college/key-dates\",\n",
    "     \"https://www.cnn.com/politics/us-primaries-explained-what-matters/index.html\",\n",
    "     \"https://www.usbank.com/investing/financial-perspectives/market-news/how-presidential-elections-affect-the-stock-market.html\"\n",
    "    ,\"https://www.brookings.edu/articles/reflections-on-the-2000-u-s-presidential-election/\",\"https://libguides.rowan.edu/c.php?g=557440\"\n",
    "]"
   ]
  },
  {
   "cell_type": "code",
   "execution_count": null,
   "id": "fe407c6e",
   "metadata": {},
   "outputs": [],
   "source": [
    "#create an empty set\n",
    "visited_par = set()"
   ]
  },
  {
   "cell_type": "code",
   "execution_count": null,
   "id": "a24473ae",
   "metadata": {},
   "outputs": [],
   "source": [
    "# this is to create 200 files named with incrementing numbers from 1-200\n",
    "for i in range(133, 201):\n",
    "    # loop over all urls given to try for scraping\n",
    "    for url in urls:\n",
    "        # scrape data from the chosen URL\n",
    "        data = webScrape_Data(url, visited_par)\n",
    "        # check if data was successfully scraped and meets the length requirement, then use it \n",
    "        if data:  \n",
    "            file_name = f'US_Presidential_Elections/file_{i}.txt'\n",
    "            write_data(data, file_name)\n",
    "            visited_par.add(data)\n",
    "            print(f\"File {i} created.\")\n",
    "            # Sleep to avoid overwhelming the server\n",
    "            time.sleep(random.uniform(1, 3))\n",
    "            # go to next file if found\n",
    "            break\n",
    "        else:\n",
    "            print(\"Failed to scrape data from the current URL. Trying a different URL.\")\n",
    "            \n",
    "\n",
    "    else:\n",
    "        print(\"Failed to scrape data from all URLs.\")\n"
   ]
  },
  {
   "cell_type": "code",
   "execution_count": null,
   "id": "07fb78be",
   "metadata": {},
   "outputs": [],
   "source": [
    "\n",
    "\n",
    "# I created this function to ensure uniqueness among all files and to detect any duplocations\n",
    "def check_uniqueness(directory):\n",
    "    file_content_mapping = {}  # Dictionary i used to store file content and their filenames\n",
    "    \n",
    "    # Loop over all files in the directory\n",
    "    for filename in os.listdir(directory):\n",
    "        if os.path.isfile(os.path.join(directory, filename)):\n",
    "            with open(os.path.join(directory, filename), 'r', encoding='utf-8') as file:\n",
    "                content = file.read()\n",
    "                # Check if the content of the file is already in file_content_mapping\n",
    "                if content in file_content_mapping:\n",
    "                    file_content_mapping[content].append(filename)\n",
    "                else:\n",
    "                    file_content_mapping[content] = [filename]\n",
    "    \n",
    "    # Extract unique files and duplicate files\n",
    "    duplicate_files = {content: filenames for content, filenames in file_content_mapping.items() if len(filenames) > 1}\n",
    "    \n",
    "    return duplicate_files\n",
    "\n",
    "directory = 'US_Presidential_Elections'\n",
    "\n",
    "duplicate_files = check_uniqueness(directory)\n",
    "\n",
    "\n",
    "# Print duplicate files\n",
    "print(\"\\nDuplicate Files:\")\n",
    "for content, filenames in duplicate_files.items():\n",
    "    print(f\"Content: of duplicates \\n{content}\\nDuplicate Files:\")\n",
    "    for filename in filenames:\n",
    "        print(filename)\n",
    "    print()\n"
   ]
  },
  {
   "cell_type": "code",
   "execution_count": null,
   "id": "3a8e84e3",
   "metadata": {},
   "outputs": [],
   "source": []
  }
 ],
 "metadata": {
  "kernelspec": {
   "display_name": "Python 3 (ipykernel)",
   "language": "python",
   "name": "python3"
  },
  "language_info": {
   "codemirror_mode": {
    "name": "ipython",
    "version": 3
   },
   "file_extension": ".py",
   "mimetype": "text/x-python",
   "name": "python",
   "nbconvert_exporter": "python",
   "pygments_lexer": "ipython3",
   "version": "3.11.2"
  }
 },
 "nbformat": 4,
 "nbformat_minor": 5
}
